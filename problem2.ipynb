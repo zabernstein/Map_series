{
 "cells": [
  {
   "cell_type": "code",
   "execution_count": 6,
   "metadata": {},
   "outputs": [],
   "source": [
    "import tempfile\n",
    "import os\n",
    "import calendar"
   ]
  },
  {
   "cell_type": "code",
   "execution_count": 7,
   "metadata": {},
   "outputs": [],
   "source": [
    "def make_maps(aprx_fn, prism_folder, pdf_fn, first_month=1, last_month=12):\n",
    "    temp_fn = os.path.join(tempfile.gettempdir(), 'temp.pdf')\n",
    "    map_name = 'Temperature'\n",
    "    layout_name = 'Temperature Layout'\n",
    "    \n",
    "    #Create variables containing the project, map, layout, and layer for later use\n",
    "    project = arcpy.mp.ArcGISProject(aprx_fn)\n",
    "    mapp = project.listMaps(map_name)[0]\n",
    "    layout = project.listLayouts(layout_name)[0]\n",
    "    layer = mapp.listLayers()[0]\n",
    "    \n",
    "    #Create PDF that will hold the final doc\n",
    "    final_doc = arcpy.mp.PDFDocumentCreate(pdf_fn)\n",
    "\n",
    "    #Loop through each month, add one to last month since range is not inclusive\n",
    "    for month in range(first_month,last_month+1):\n",
    "        #Variable to hold the month name\n",
    "        month_n= calendar.month_name[month]\n",
    "        print(f'Mapping {month_n}')\n",
    "        #creating file name that references each month as we loop through\n",
    "        month_fn = 'PRISM_tmean_stable_4kmM2_2017{0:0>2}_bil.bil'.format(month)\n",
    "\n",
    "        #Update symbology by just changing the dataset that the layer uses\n",
    "        #to the new dataset and keeping the existing symbology\n",
    "        connection = layer.connectionProperties\n",
    "        connection['dataset'] = month_fn\n",
    "        layer.updateConnectionProperties(layer.connectionProperties, connection)\n",
    "\n",
    "        #create variable holding the min and max values\n",
    "        raster = arcpy.Raster(layer.dataSource)\n",
    "        minn = int(round(raster.minimum))\n",
    "        maxx = int(round(raster.maximum))\n",
    "\n",
    "        #update title and statistics\n",
    "        title = layout.listElements('TEXT_ELEMENT','title')[0]\n",
    "        title.text = f'Mean annual temperature for {month_n}'\n",
    "\n",
    "        statistics = layout.listElements('TEXT_ELEMENT','statistics')[0]\n",
    "        statistics.text = f'Min: {minn}° C\\nMax: {maxx}°C'\n",
    "\n",
    "        #export to a temporary PDF\n",
    "        layout.exportToPDF(temp_fn)\n",
    "\n",
    "        #append temporary PDF to final PDF\n",
    "        final_doc.appendPages(temp_fn)\n",
    "\n",
    "    final_doc.saveAndClose()\n",
    "\n",
    "    del final_doc, project"
   ]
  },
  {
   "cell_type": "code",
   "execution_count": 9,
   "metadata": {},
   "outputs": [
    {
     "name": "stdout",
     "output_type": "stream",
     "text": [
      "Mapping January\n",
      "Mapping February\n",
      "Mapping March\n",
      "Mapping April\n",
      "Mapping May\n",
      "Mapping June\n",
      "Mapping July\n",
      "Mapping August\n",
      "Mapping September\n",
      "Mapping October\n",
      "Mapping November\n",
      "Mapping December\n",
      "Mapping March\n",
      "Mapping April\n",
      "Mapping May\n",
      "Mapping June\n",
      "Mapping July\n"
     ]
    }
   ],
   "source": [
    "# Change these paths to match your computer!\n",
    "aprx_fn = r'C:\\python_GIS\\week_10\\mapbooks.aprx'\n",
    "prism_folder = r'C:\\python_GIS\\week_10\\PRISM_tmean_stable_4kmM2_2017_all_bil'\n",
    "\n",
    "# Make a map book for all twelve months.\n",
    "pdf_fn = r'C:\\python_GIS\\week_10\\problem2a.pdf'\n",
    "make_maps(aprx_fn, prism_folder, pdf_fn)\n",
    "\n",
    "# Make a map book for March through July.\n",
    "pdf_fn = r'C:\\python_GIS\\week_10\\problem2b.pdf'\n",
    "make_maps(aprx_fn, prism_folder, pdf_fn, 3, 7)"
   ]
  },
  {
   "cell_type": "code",
   "execution_count": null,
   "metadata": {},
   "outputs": [],
   "source": []
  }
 ],
 "metadata": {
  "kernelspec": {
   "display_name": "ArcGISPro",
   "language": "Python",
   "name": "python3"
  },
  "language_info": {
   "file_extension": ".py",
   "name": "python",
   "version": "3"
  }
 },
 "nbformat": 4,
 "nbformat_minor": 2
}
