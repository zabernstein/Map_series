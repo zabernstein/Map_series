{
 "cells": [
  {
   "cell_type": "code",
   "execution_count": 9,
   "metadata": {},
   "outputs": [],
   "source": [
    "prism_folder = r'C:\\python_GIS\\week_10\\PRISM_tmean_stable_4kmM2_2017_all_bil'\n",
    "pdf_fn = r'C:\\python_GIS\\week_10\\problem1.pdf'\n",
    "first_month = 3\n",
    "last_month = 10\n",
    "\n",
    "map_name = 'Temperature'\n",
    "layout_name = 'Temperature Layout'"
   ]
  },
  {
   "cell_type": "code",
   "execution_count": 10,
   "metadata": {},
   "outputs": [],
   "source": [
    "import tempfile\n",
    "import os\n",
    "import calendar"
   ]
  },
  {
   "cell_type": "code",
   "execution_count": 11,
   "metadata": {},
   "outputs": [
    {
     "data": {
      "text/plain": [
       "'C:\\\\Users\\\\ZBERNS~1\\\\AppData\\\\Local\\\\Temp\\\\ArcGISProTemp13472\\\\temp.pdf'"
      ]
     },
     "execution_count": 11,
     "metadata": {},
     "output_type": "execute_result"
    }
   ],
   "source": [
    "temp_fn = os.path.join(tempfile.gettempdir(), 'temp.pdf')\n",
    "temp_fn"
   ]
  },
  {
   "cell_type": "code",
   "execution_count": 12,
   "metadata": {},
   "outputs": [],
   "source": [
    "#Create variables containing the project, map, layout, and layer for later use\n",
    "project = arcpy.mp.ArcGISProject('CURRENT')\n",
    "mapp = project.listMaps(map_name)[0]\n",
    "layout = project.listLayouts(layout_name)[0]\n",
    "layer = mapp.listLayers()[0]"
   ]
  },
  {
   "cell_type": "code",
   "execution_count": 15,
   "metadata": {},
   "outputs": [
    {
     "name": "stdout",
     "output_type": "stream",
     "text": [
      "Mapping March\n",
      "Mapping April\n",
      "Mapping May\n",
      "Mapping June\n",
      "Mapping July\n",
      "Mapping August\n",
      "Mapping September\n",
      "Mapping October\n"
     ]
    }
   ],
   "source": [
    "#Create PDF that will hold the final doc\n",
    "final_doc = arcpy.mp.PDFDocumentCreate(pdf_fn)\n",
    "\n",
    "#Loop through each month, add one to last month since range is not inclusive\n",
    "for month in range(first_month,last_month+1):\n",
    "    #Variable to hold the month name\n",
    "    month_n= calendar.month_name[month]\n",
    "    print(f'Mapping {month_n}')\n",
    "    #creating file name that references each month as we loop through\n",
    "    month_fn = 'PRISM_tmean_stable_4kmM2_2017{0:0>2}_bil.bil'.format(month)\n",
    "    \n",
    "    #Update symbology by just changing the dataset that the layer uses\n",
    "    #to the new dataset and keeping the existing symbology\n",
    "    connection = layer.connectionProperties\n",
    "    connection['dataset'] = month_fn\n",
    "    layer.updateConnectionProperties(layer.connectionProperties, connection)\n",
    "    \n",
    "    #create variable holding the min and max values\n",
    "    raster = arcpy.Raster(layer.dataSource)\n",
    "    minn = int(round(raster.minimum))\n",
    "    maxx = int(round(raster.maximum))\n",
    "    \n",
    "    #update title and statistics\n",
    "    title = layout.listElements('TEXT_ELEMENT','title')[0]\n",
    "    title.text = f'Mean annual temperature for {month_n}'\n",
    "    \n",
    "    statistics = layout.listElements('TEXT_ELEMENT','statistics')[0]\n",
    "    statistics.text = f'Min: {minn}° C\\nMax: {maxx}°C'\n",
    "    \n",
    "    #export to a temporary PDF\n",
    "    layout.exportToPDF(temp_fn)\n",
    "    \n",
    "    #append temporary PDF to final PDF\n",
    "    final_doc.appendPages(temp_fn)\n",
    "    \n",
    "final_doc.saveAndClose()\n",
    "\n",
    "del final_doc, project"
   ]
  },
  {
   "cell_type": "code",
   "execution_count": null,
   "metadata": {},
   "outputs": [],
   "source": []
  }
 ],
 "metadata": {
  "kernelspec": {
   "display_name": "ArcGISPro",
   "language": "Python",
   "name": "python3"
  },
  "language_info": {
   "file_extension": ".py",
   "name": "python",
   "version": "3"
  }
 },
 "nbformat": 4,
 "nbformat_minor": 2
}
